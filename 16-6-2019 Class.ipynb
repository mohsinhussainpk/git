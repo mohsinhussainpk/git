{
 "cells": [
  {
   "cell_type": "code",
   "execution_count": 14,
   "metadata": {},
   "outputs": [
    {
     "name": "stdout",
     "output_type": "stream",
     "text": [
      "Enter a number: 1\n",
      "Not a prime number\n"
     ]
    }
   ],
   "source": [
    "num = int(input(\"Enter a number: \"))\n",
    "if num == 2:\n",
    "    print(\"prime number\")\n",
    "if num == 1:\n",
    "    print(\"Not a prime number\")\n",
    "for i in range (2,num):\n",
    "    if num%i == 0:\n",
    "        print (\"Not a prime number\")\n",
    "        break\n",
    "if num==i+1:\n",
    "                print(\"Prime Number\")\n",
    "                "
   ]
  },
  {
   "cell_type": "code",
   "execution_count": 108,
   "metadata": {},
   "outputs": [],
   "source": [
    "def func(var1, var2):\n",
    "    \n",
    "    var3 = var1-var2\n",
    "    return var3\n",
    "    "
   ]
  },
  {
   "cell_type": "code",
   "execution_count": 109,
   "metadata": {},
   "outputs": [
    {
     "data": {
      "text/plain": [
       "2"
      ]
     },
     "execution_count": 109,
     "metadata": {},
     "output_type": "execute_result"
    }
   ],
   "source": [
    "func(var1=5,var2=3)"
   ]
  },
  {
   "cell_type": "code",
   "execution_count": 16,
   "metadata": {},
   "outputs": [],
   "source": [
    "def func1(var2=2):\n",
    "    print(var2)"
   ]
  },
  {
   "cell_type": "code",
   "execution_count": 23,
   "metadata": {},
   "outputs": [
    {
     "name": "stdout",
     "output_type": "stream",
     "text": [
      "23\n"
     ]
    }
   ],
   "source": [
    "func1(23)"
   ]
  },
  {
   "cell_type": "code",
   "execution_count": 24,
   "metadata": {},
   "outputs": [],
   "source": [
    "def display_result(winner, score, **other_info): \n",
    "\tprint(\"The winner was \" + winner) \n",
    "\tprint(\"The score was \" + score) \n",
    "\tfor key, value in other_info.items(): \n",
    "\t\tprint(key + \": \" + value) \n"
   ]
  },
  {
   "cell_type": "code",
   "execution_count": 25,
   "metadata": {},
   "outputs": [
    {
     "name": "stdout",
     "output_type": "stream",
     "text": [
      "100\n",
      "200\n",
      "(300, 400, 500)\n"
     ]
    }
   ],
   "source": [
    "def display_nums(first_num, second_num, *opt_nums): \n",
    "\tprint(first_num) \n",
    "\tprint(second_num) \n",
    "\tprint(opt_nums)\n",
    "\n",
    "\n",
    "display_nums(100, 200, 300, 400, 500)\n"
   ]
  },
  {
   "cell_type": "code",
   "execution_count": 31,
   "metadata": {},
   "outputs": [],
   "source": [
    "def x(**a):\n",
    "    print(a)"
   ]
  },
  {
   "cell_type": "code",
   "execution_count": 32,
   "metadata": {},
   "outputs": [
    {
     "name": "stdout",
     "output_type": "stream",
     "text": [
      "{'book': 100, 'copies': 20, 'pencil': 5}\n"
     ]
    }
   ],
   "source": [
    "x(book=100,copies=20,pencil=5)"
   ]
  },
  {
   "cell_type": "code",
   "execution_count": 37,
   "metadata": {},
   "outputs": [],
   "source": [
    "def y(*b):\n",
    "    print(b)\n"
   ]
  },
  {
   "cell_type": "code",
   "execution_count": 40,
   "metadata": {},
   "outputs": [
    {
     "name": "stdout",
     "output_type": "stream",
     "text": [
      "('dsf', 'a')\n"
     ]
    }
   ],
   "source": [
    "y(\"dsf\",\"a\")"
   ]
  },
  {
   "cell_type": "code",
   "execution_count": 112,
   "metadata": {},
   "outputs": [
    {
     "name": "stdout",
     "output_type": "stream",
     "text": [
      "[1, 2, 3, 4, 5, 6, 7, 8, 9, 10, 11, 12, 13, 14, 15, 16, 17, 18, 19, 20, 21, 22, 23, 24, 25, 26, 27, 28, 29, 30, 31, 32, 33, 34, 35, 36, 37, 38, 39, 40, 41, 42, 43, 44, 45, 46, 47, 48, 49, 50, 51, 52, 53, 54, 55, 56, 57, 58, 59, 60, 61, 62, 63, 64, 65, 66, 67, 68, 69, 70, 71, 72, 73, 74, 75, 76, 77, 78, 79, 80, 81, 82, 83, 84, 85, 86, 87, 88, 89, 90, 91, 92, 93, 94, 95, 96, 97, 98, 99, 100]\n"
     ]
    }
   ],
   "source": [
    "def natural(start,end):\n",
    "    print(list(range(start,end+1)))\n",
    "natural(1,100)\n"
   ]
  },
  {
   "cell_type": "code",
   "execution_count": 46,
   "metadata": {},
   "outputs": [
    {
     "name": "stdout",
     "output_type": "stream",
     "text": [
      "[3, 5, 7, 9, 11, 13, 15, 17, 19, 21, 23, 25, 27, 29, 31, 33, 35, 37, 39, 41, 43, 45, 47, 49, 51, 53, 55, 57, 59, 61, 63, 65, 67, 69, 71, 73, 75, 77, 79, 81, 83, 85, 87, 89, 91, 93, 95, 97, 99, 101]\n"
     ]
    }
   ],
   "source": [
    "def odd_num(start,end):\n",
    "    if start%2==0:\n",
    "           start+=1\n",
    "    num=list(range(start,end+1,2))\n",
    "    print(num)\n",
    "odd_num(2,101)"
   ]
  },
  {
   "cell_type": "code",
   "execution_count": 48,
   "metadata": {},
   "outputs": [
    {
     "name": "stdout",
     "output_type": "stream",
     "text": [
      "[2, 4, 6, 8, 10, 12, 14, 16, 18, 20, 22, 24, 26, 28, 30, 32, 34, 36, 38, 40, 42, 44, 46, 48, 50, 52, 54, 56, 58, 60, 62, 64, 66, 68, 70, 72, 74, 76, 78, 80, 82, 84, 86, 88, 90, 92, 94, 96, 98, 100]\n"
     ]
    }
   ],
   "source": [
    "def even_number(start,end):\n",
    "    if start%2==1:\n",
    "           start+=1\n",
    "    num=list(range(start,end+1,2))\n",
    "    print(num)\n",
    "even_number(1,100)"
   ]
  },
  {
   "cell_type": "code",
   "execution_count": 66,
   "metadata": {},
   "outputs": [
    {
     "name": "stdout",
     "output_type": "stream",
     "text": [
      "False\n"
     ]
    }
   ],
   "source": [
    "def is_prime(num):\n",
    "    for i in range(2,(num//2)+1):\n",
    "        if num%i == 0:\n",
    "            return(False)\n",
    "    return True    \n",
    "print(is_prime(9))"
   ]
  },
  {
   "cell_type": "code",
   "execution_count": 68,
   "metadata": {},
   "outputs": [
    {
     "data": {
      "text/plain": [
       "1"
      ]
     },
     "execution_count": 68,
     "metadata": {},
     "output_type": "execute_result"
    }
   ],
   "source": [
    "5//4"
   ]
  },
  {
   "cell_type": "code",
   "execution_count": 72,
   "metadata": {},
   "outputs": [
    {
     "name": "stdout",
     "output_type": "stream",
     "text": [
      "[2, 3, 5, 7, 11, 13, 17, 19, 23, 29, 31, 37, 41, 43, 47, 53, 59, 61, 67, 71, 73, 79, 83, 89, 97]\n"
     ]
    }
   ],
   "source": [
    "def primenum(start,end):\n",
    "    prime = []\n",
    "    for i in range(start, end+1):\n",
    "        if i  == 1:\n",
    "            continue\n",
    "        if is_prime(i):\n",
    "            prime.append(i)\n",
    "    print(prime)\n",
    "primenum(1,100)\n",
    "        "
   ]
  },
  {
   "cell_type": "code",
   "execution_count": 78,
   "metadata": {},
   "outputs": [
    {
     "name": "stdout",
     "output_type": "stream",
     "text": [
      "1: Natural Number\n",
      "2: Odd Number\n",
      "3: Even Number\n",
      "4: Prime Number\n",
      "Enter your cohice: 4\n",
      "Enter Number1: 1\n",
      "Enter Number2: 100\n",
      "Printing Prime Number\n",
      "[2, 3, 5, 7, 11, 13, 17, 19, 23, 29, 31, 37, 41, 43, 47, 53, 59, 61, 67, 71, 73, 79, 83, 89, 97]\n",
      "Do you want to continue (y/n): y\n",
      "1: Natural Number\n",
      "2: Odd Number\n",
      "3: Even Number\n",
      "4: Prime Number\n",
      "Enter your cohice: 3\n",
      "Enter Number1: 1\n",
      "Enter Number2: 2\n",
      "Printing Even Number\n",
      "[2]\n",
      "Do you want to continue (y/n): y\n",
      "1: Natural Number\n",
      "2: Odd Number\n",
      "3: Even Number\n",
      "4: Prime Number\n",
      "Enter your cohice: 1\n",
      "Enter Number1: 1\n",
      "Enter Number2: 100\n",
      "Printing Natural Number\n",
      "[1, 2, 3, 4, 5, 6, 7, 8, 9, 10, 11, 12, 13, 14, 15, 16, 17, 18, 19, 20, 21, 22, 23, 24, 25, 26, 27, 28, 29, 30, 31, 32, 33, 34, 35, 36, 37, 38, 39, 40, 41, 42, 43, 44, 45, 46, 47, 48, 49, 50, 51, 52, 53, 54, 55, 56, 57, 58, 59, 60, 61, 62, 63, 64, 65, 66, 67, 68, 69, 70, 71, 72, 73, 74, 75, 76, 77, 78, 79, 80, 81, 82, 83, 84, 85, 86, 87, 88, 89, 90, 91, 92, 93, 94, 95, 96, 97, 98, 99, 100]\n",
      "Do you want to continue (y/n): n\n"
     ]
    }
   ],
   "source": [
    "def print_numbers():\n",
    "    print('1: Natural Number')\n",
    "    print('2: Odd Number')\n",
    "    print('3: Even Number')\n",
    "    print('4: Prime Number')\n",
    "    choice = int(input(\"Enter your cohice: \"))\n",
    "    a= int(input(\"Enter Number1: \"))\n",
    "    b= int(input(\"Enter Number2: \"))\n",
    "\n",
    "    if choice == 1:\n",
    "        print(\"Printing Natural Number\")\n",
    "        natural(a,b)\n",
    "    elif choice == 2:\n",
    "        print(\"Printing Odd Number\")\n",
    "        odd_num(a,b)\n",
    "    elif choice == 3:\n",
    "        print(\"Printing Even Number\")\n",
    "        even_number(a,b)\n",
    "    elif choice== 4:\n",
    "        print(\"Printing Prime Number\")\n",
    "        primenum(a,b)\n",
    "\n",
    "\n",
    "cont='y'\n",
    "while(cont=='y'):\n",
    "    print_numbers()    \n",
    "    cont=input('Do you want to continue (y/n): ')"
   ]
  },
  {
   "cell_type": "code",
   "execution_count": 98,
   "metadata": {},
   "outputs": [],
   "source": [
    "#Encapsulation\n",
    "# data, behavoiur are grouped inside class\n",
    "class Animal:\n",
    "    def __init__(self, a,b):\n",
    "        self.name = a  #\n",
    "        self.legs = b          #\n",
    "        \n",
    "    def sound(self, voice):\n",
    "        print('Sound', voice)\n",
    "    \n",
    "    def print_details(self):\n",
    "        print('Name: ',self.name)\n",
    "        print('Number of legs: ',self.legs)\n",
    "        "
   ]
  },
  {
   "cell_type": "code",
   "execution_count": 87,
   "metadata": {},
   "outputs": [
    {
     "name": "stdout",
     "output_type": "stream",
     "text": [
      "Name:  no name\n",
      "Number of legs:  4\n"
     ]
    }
   ],
   "source": [
    "animal = Animal()\n",
    "animal2 = Animal()\n",
    "animal.print_details()"
   ]
  },
  {
   "cell_type": "code",
   "execution_count": 88,
   "metadata": {},
   "outputs": [
    {
     "name": "stdout",
     "output_type": "stream",
     "text": [
      "Name:  CAT\n",
      "Number of legs:  4\n"
     ]
    }
   ],
   "source": [
    "animal.name = 'CAT'\n",
    "animal.print_details()"
   ]
  },
  {
   "cell_type": "code",
   "execution_count": 89,
   "metadata": {},
   "outputs": [
    {
     "name": "stdout",
     "output_type": "stream",
     "text": [
      "Name:  Dog\n",
      "Number of legs:  4\n"
     ]
    }
   ],
   "source": [
    "animal2.name = \"Dog\"\n",
    "animal2.print_details()"
   ]
  },
  {
   "cell_type": "code",
   "execution_count": 90,
   "metadata": {},
   "outputs": [
    {
     "data": {
      "text/plain": [
       "str"
      ]
     },
     "execution_count": 90,
     "metadata": {},
     "output_type": "execute_result"
    }
   ],
   "source": [
    "str1 = \"anu\"\n",
    "type(str1)"
   ]
  },
  {
   "cell_type": "code",
   "execution_count": 91,
   "metadata": {},
   "outputs": [
    {
     "name": "stdout",
     "output_type": "stream",
     "text": [
      "Name:  no name\n",
      "Number of legs:  4\n"
     ]
    }
   ],
   "source": [
    "animal = Animal()\n",
    "animal.print_details()"
   ]
  },
  {
   "cell_type": "code",
   "execution_count": 101,
   "metadata": {},
   "outputs": [
    {
     "name": "stdout",
     "output_type": "stream",
     "text": [
      "Name:  Cat\n",
      "Number of legs:  4\n",
      "Sound Meow\n"
     ]
    }
   ],
   "source": [
    "animal3 = Animal('Cat', 4)\n",
    "animal3.print_details()\n",
    "animal3.sound('Meow')"
   ]
  },
  {
   "cell_type": "code",
   "execution_count": 95,
   "metadata": {},
   "outputs": [
    {
     "name": "stdout",
     "output_type": "stream",
     "text": [
      "Name:  hen\n",
      "Number of legs:  2\n"
     ]
    }
   ],
   "source": [
    "animal4 = Animal('hen', 2)\n",
    "animal4.print_details()"
   ]
  },
  {
   "cell_type": "code",
   "execution_count": 100,
   "metadata": {},
   "outputs": [
    {
     "name": "stdout",
     "output_type": "stream",
     "text": [
      "Sound Meow\n"
     ]
    }
   ],
   "source": []
  },
  {
   "cell_type": "code",
   "execution_count": null,
   "metadata": {},
   "outputs": [],
   "source": [
    "#Class Shape\n",
    "# attributes : number of sides, color\n",
    "# behaviour/method : Draw()"
   ]
  },
  {
   "cell_type": "code",
   "execution_count": 105,
   "metadata": {},
   "outputs": [
    {
     "name": "stdout",
     "output_type": "stream",
     "text": [
      "Shape of sides: 4 and Color: Black is drawn\n"
     ]
    }
   ],
   "source": [
    "class Shape:\n",
    "    def __init__(self,sides,color):\n",
    "        self.sides=sides\n",
    "        self.color=color\n",
    "    def draw(self):\n",
    "        print(\"Shape of sides:\",self.sides,\"and Color:\",self.color,\"is drawn\")\n",
    "\n",
    "square = Shape(4,\"Black\")\n",
    "square.draw()\n"
   ]
  },
  {
   "cell_type": "code",
   "execution_count": 106,
   "metadata": {},
   "outputs": [
    {
     "name": "stdout",
     "output_type": "stream",
     "text": [
      "Shape of sides: 3 and Color: blue is drawn\n"
     ]
    }
   ],
   "source": [
    "triangle = Shape(3,'blue')\n",
    "triangle.draw()"
   ]
  },
  {
   "cell_type": "code",
   "execution_count": 110,
   "metadata": {},
   "outputs": [
    {
     "data": {
      "text/plain": [
       "range(1, 10)"
      ]
     },
     "execution_count": 110,
     "metadata": {},
     "output_type": "execute_result"
    }
   ],
   "source": [
    "range(1,10)"
   ]
  },
  {
   "cell_type": "code",
   "execution_count": 111,
   "metadata": {},
   "outputs": [
    {
     "data": {
      "text/plain": [
       "range(0, 10)"
      ]
     },
     "execution_count": 111,
     "metadata": {},
     "output_type": "execute_result"
    }
   ],
   "source": [
    "range(10)"
   ]
  },
  {
   "cell_type": "code",
   "execution_count": null,
   "metadata": {},
   "outputs": [],
   "source": []
  },
  {
   "cell_type": "code",
   "execution_count": null,
   "metadata": {},
   "outputs": [],
   "source": []
  }
 ],
 "metadata": {
  "kernelspec": {
   "display_name": "Python 3",
   "language": "python",
   "name": "python3"
  },
  "language_info": {
   "codemirror_mode": {
    "name": "ipython",
    "version": 3
   },
   "file_extension": ".py",
   "mimetype": "text/x-python",
   "name": "python",
   "nbconvert_exporter": "python",
   "pygments_lexer": "ipython3",
   "version": "3.7.1"
  }
 },
 "nbformat": 4,
 "nbformat_minor": 2
}
